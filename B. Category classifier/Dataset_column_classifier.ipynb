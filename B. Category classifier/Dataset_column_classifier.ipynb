{
 "cells": [
  {
   "cell_type": "markdown",
   "id": "a8d46ef7",
   "metadata": {},
   "source": [
    "# Named Entity Recognition aka NER\n",
    "\n",
    "> spaCy can recognise various types of named entities in a document, by asking the model for a prediction. Because models are statistical and strongly depend on the examples they were trained on, this doesn't always work perfectly and might need some tuning later, depending on your use case.\n",
    "> \n",
    ">  -- from the [spaCy docs](https://spacy.io/usage/linguistic-features#section-named-entities)"
   ]
  },
  {
   "cell_type": "code",
   "execution_count": 58,
   "id": "33c3d43e",
   "metadata": {},
   "outputs": [],
   "source": [
    "import spacy\n",
    "from tqdm import tqdm # progress bar\n",
    "import pandas as pd"
   ]
  },
  {
   "cell_type": "code",
   "execution_count": 59,
   "id": "8e3b9368",
   "metadata": {},
   "outputs": [
    {
     "data": {
      "text/plain": [
       "'3.1.1'"
      ]
     },
     "execution_count": 59,
     "metadata": {},
     "output_type": "execute_result"
    }
   ],
   "source": [
    "spacy.__version__"
   ]
  },
  {
   "cell_type": "code",
   "execution_count": 60,
   "id": "38bf1aee",
   "metadata": {},
   "outputs": [],
   "source": [
    "# import the dataset\n",
    "df = pd.read_csv('shanghai_2020.csv')"
   ]
  },
  {
   "cell_type": "code",
   "execution_count": 67,
   "id": "a5fdc1e7",
   "metadata": {},
   "outputs": [
    {
     "data": {
      "text/html": [
       "<div>\n",
       "<style scoped>\n",
       "    .dataframe tbody tr th:only-of-type {\n",
       "        vertical-align: middle;\n",
       "    }\n",
       "\n",
       "    .dataframe tbody tr th {\n",
       "        vertical-align: top;\n",
       "    }\n",
       "\n",
       "    .dataframe thead th {\n",
       "        text-align: right;\n",
       "    }\n",
       "</style>\n",
       "<table border=\"1\" class=\"dataframe\">\n",
       "  <thead>\n",
       "    <tr style=\"text-align: right;\">\n",
       "      <th></th>\n",
       "      <th>world_rank</th>\n",
       "      <th>institution</th>\n",
       "      <th>national_rank</th>\n",
       "      <th>total_score</th>\n",
       "      <th>country_iso_code</th>\n",
       "      <th>country</th>\n",
       "      <th>year</th>\n",
       "    </tr>\n",
       "  </thead>\n",
       "  <tbody>\n",
       "    <tr>\n",
       "      <th>76</th>\n",
       "      <td>77</td>\n",
       "      <td>Uppsala University</td>\n",
       "      <td>3</td>\n",
       "      <td>28.4</td>\n",
       "      <td>SE</td>\n",
       "      <td>Sweden</td>\n",
       "      <td>2020</td>\n",
       "    </tr>\n",
       "    <tr>\n",
       "      <th>233</th>\n",
       "      <td>201-300</td>\n",
       "      <td>Newcastle University</td>\n",
       "      <td>21-28</td>\n",
       "      <td>NaN</td>\n",
       "      <td>GB</td>\n",
       "      <td>United Kingdom</td>\n",
       "      <td>2020</td>\n",
       "    </tr>\n",
       "    <tr>\n",
       "      <th>225</th>\n",
       "      <td>201-300</td>\n",
       "      <td>KTH Royal Institute of Technology</td>\n",
       "      <td>6</td>\n",
       "      <td>NaN</td>\n",
       "      <td>SE</td>\n",
       "      <td>Sweden</td>\n",
       "      <td>2020</td>\n",
       "    </tr>\n",
       "  </tbody>\n",
       "</table>\n",
       "</div>"
      ],
      "text/plain": [
       "    world_rank                        institution national_rank  total_score  \\\n",
       "76          77                 Uppsala University             3         28.4   \n",
       "233    201-300               Newcastle University         21-28          NaN   \n",
       "225    201-300  KTH Royal Institute of Technology             6          NaN   \n",
       "\n",
       "    country_iso_code         country  year  \n",
       "76                SE          Sweden  2020  \n",
       "233               GB  United Kingdom  2020  \n",
       "225               SE          Sweden  2020  "
      ]
     },
     "execution_count": 67,
     "metadata": {},
     "output_type": "execute_result"
    }
   ],
   "source": [
    "df.sample(3)"
   ]
  },
  {
   "cell_type": "code",
   "execution_count": 61,
   "id": "d1e9a4e0",
   "metadata": {},
   "outputs": [],
   "source": [
    "# Create instance of spcay and load pre-trained model\n",
    "nlp = spacy.load('en_core_web_sm')"
   ]
  },
  {
   "cell_type": "code",
   "execution_count": 62,
   "id": "2446873f",
   "metadata": {},
   "outputs": [],
   "source": [
    "def get_cat(df, col):\n",
    "    '''Function called for getting \n",
    "    lables in dedicated dataframe column\n",
    "    input: dataframe, name column of dataframe\n",
    "    output: list of all labels in column\n",
    "    '''\n",
    "    \n",
    "    labels = []\n",
    "    # save unique content from the column\n",
    "    col_content = str(df[col].unique())\n",
    "    doc = nlp(col_content)\n",
    "    for token in doc.ents:\n",
    "        #take and save all labels in the list\n",
    "        labels.append(token.label_)\n",
    "\n",
    "    return labels"
   ]
  },
  {
   "cell_type": "code",
   "execution_count": 63,
   "id": "01767213",
   "metadata": {},
   "outputs": [],
   "source": [
    "def most_frequent(List):\n",
    "    '''Function is called for \n",
    "    getting most common value in the list'''\n",
    "    \n",
    "    return max(set(List), key = List.count)"
   ]
  },
  {
   "cell_type": "code",
   "execution_count": 64,
   "id": "c0e14f2b",
   "metadata": {},
   "outputs": [
    {
     "name": "stdout",
     "output_type": "stream",
     "text": [
      "Column No. 0 has preferd category CARDINAL\n",
      "Column No. 1 has preferd category ORG\n",
      "Column No. 2 has preferd category CARDINAL\n",
      "Column No. 3 has preferd category CARDINAL\n",
      "Column No. 4 has preferd category ORG\n",
      "Column No. 5 has preferd category GPE\n",
      "Column No. 6 has preferd category DATE\n"
     ]
    }
   ],
   "source": [
    "# Runn the model in a loop for each column\n",
    "for i,col in enumerate(df.columns):\n",
    "    col_value = most_frequent(get_cat(df,col))\n",
    "    print(f'Column No. {i} has preferd category {col_value}')"
   ]
  },
  {
   "cell_type": "markdown",
   "id": "ce70fcbd",
   "metadata": {},
   "source": [
    "## Entities Explained\n",
    "\n",
    "| Type | \tDescription|\n",
    "|:---|:---\n",
    "| PERSON |\tPeople, including fictional. |\n",
    "| NORP | Nationalities or religious or political groups.| \n",
    "| FAC|  \tBuildings, airports, highways, bridges, etc.| \n",
    "| ORG|  \tCompanies, agencies, institutions, etc.| \n",
    "| GPE|  \tCountries, cities, states.| \n",
    "| LOC|  \tNon-GPE locations, mountain ranges, bodies of water.| \n",
    "| PRODUCT|  \tObjects, vehicles, foods, etc. (Not services.)| \n",
    "| EVENT|  \tNamed hurricanes, battles, wars, sports events, etc.| \n",
    "| WORK_OF_ART|  \tTitles of books, songs, etc.| \n",
    "| LAW|  \tNamed documents made into laws.| |\n",
    "| LANGUAGE|  \tAny named language.| \n",
    "| DATE|  \tAbsolute or relative dates or periods.| \n",
    "| TIME|  \tTimes smaller than a day.| \n",
    "| PERCENT|  \tPercentage, including \"%\".| \n",
    "| MONEY|  \tMonetary values, including unit.| \n",
    "| QUANTITY|  \tMeasurements, as of weight or distance.| \n",
    "| ORDINAL|  \t\"first\", \"second\", etc.| \n",
    "| CARDINAL|  \tNumerals that do not fall under another type.| "
   ]
  },
  {
   "cell_type": "code",
   "execution_count": null,
   "id": "f6d4a6d8",
   "metadata": {},
   "outputs": [],
   "source": []
  }
 ],
 "metadata": {
  "kernelspec": {
   "display_name": "Python [conda env:NLPtest] *",
   "language": "python",
   "name": "conda-env-NLPtest-py"
  },
  "language_info": {
   "codemirror_mode": {
    "name": "ipython",
    "version": 3
   },
   "file_extension": ".py",
   "mimetype": "text/x-python",
   "name": "python",
   "nbconvert_exporter": "python",
   "pygments_lexer": "ipython3",
   "version": "3.8.11"
  },
  "toc": {
   "base_numbering": 1,
   "nav_menu": {},
   "number_sections": true,
   "sideBar": true,
   "skip_h1_title": false,
   "title_cell": "Table of Contents",
   "title_sidebar": "Contents",
   "toc_cell": false,
   "toc_position": {},
   "toc_section_display": true,
   "toc_window_display": false
  }
 },
 "nbformat": 4,
 "nbformat_minor": 5
}
